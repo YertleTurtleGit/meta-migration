{
 "cells": [
  {
   "cell_type": "code",
   "execution_count": 5,
   "metadata": {},
   "outputs": [
    {
     "name": "stdout",
     "output_type": "stream",
     "text": [
      "Requirement already satisfied: pathlib2 in ./.venv/lib/python3.12/site-packages (2.3.7.post1)\n",
      "Requirement already satisfied: tqdm in ./.venv/lib/python3.12/site-packages (4.67.1)\n",
      "Collecting pandas\n",
      "  Using cached pandas-2.2.3-cp312-cp312-manylinux_2_17_x86_64.manylinux2014_x86_64.whl.metadata (89 kB)\n",
      "Requirement already satisfied: six in ./.venv/lib/python3.12/site-packages (from pathlib2) (1.17.0)\n",
      "Collecting numpy>=1.26.0 (from pandas)\n",
      "  Downloading numpy-2.2.5-cp312-cp312-manylinux_2_17_x86_64.manylinux2014_x86_64.whl.metadata (62 kB)\n",
      "Requirement already satisfied: python-dateutil>=2.8.2 in ./.venv/lib/python3.12/site-packages (from pandas) (2.9.0.post0)\n",
      "Collecting pytz>=2020.1 (from pandas)\n",
      "  Downloading pytz-2025.2-py2.py3-none-any.whl.metadata (22 kB)\n",
      "Collecting tzdata>=2022.7 (from pandas)\n",
      "  Downloading tzdata-2025.2-py2.py3-none-any.whl.metadata (1.4 kB)\n",
      "Using cached pandas-2.2.3-cp312-cp312-manylinux_2_17_x86_64.manylinux2014_x86_64.whl (12.7 MB)\n",
      "Downloading numpy-2.2.5-cp312-cp312-manylinux_2_17_x86_64.manylinux2014_x86_64.whl (16.1 MB)\n",
      "\u001b[2K   \u001b[90m━━━━━━━━━━━━━━━━━━━━━━━━━━━━━━━━━━━━━━━━\u001b[0m \u001b[32m16.1/16.1 MB\u001b[0m \u001b[31m2.3 MB/s\u001b[0m eta \u001b[36m0:00:00\u001b[0m00:01\u001b[0m00:01\u001b[0mm\n",
      "\u001b[?25hDownloading pytz-2025.2-py2.py3-none-any.whl (509 kB)\n",
      "Downloading tzdata-2025.2-py2.py3-none-any.whl (347 kB)\n",
      "Installing collected packages: pytz, tzdata, numpy, pandas\n",
      "Successfully installed numpy-2.2.5 pandas-2.2.3 pytz-2025.2 tzdata-2025.2\n",
      "Note: you may need to restart the kernel to use updated packages.\n"
     ]
    }
   ],
   "source": [
    "%pip install pathlib2 tqdm pandas"
   ]
  },
  {
   "cell_type": "code",
   "execution_count": 6,
   "metadata": {},
   "outputs": [],
   "source": [
    "from pathlib2 import Path\n",
    "from tqdm import tqdm\n",
    "import pandas as pd"
   ]
  },
  {
   "cell_type": "code",
   "execution_count": 26,
   "metadata": {},
   "outputs": [
    {
     "name": "stderr",
     "output_type": "stream",
     "text": [
      "100%|██████████| 181/181 [02:37<00:00,  1.15it/s]\n"
     ]
    }
   ],
   "source": [
    "output_dir = Path(\"plot\", \"countries\")\n",
    "output_dir.mkdir(parents=True, exist_ok=True)\n",
    "migrations_df = pd.read_csv(\"international_migration_flow.csv\")\n",
    "destination_countries = migrations_df['country_to'].unique()\n",
    "\n",
    "for country in tqdm(destination_countries):\n",
    "    country_data = migrations_df[migrations_df['country_to'] == country]\n",
    "    js_string = f\"migrations['{country}']=[\"\n",
    "    \n",
    "    for index, row in country_data.iterrows():\n",
    "        year, month = row.migration_month.split(\"-\")\n",
    "        js_string += \"{\"\n",
    "        js_string += f\"from:'{row.country_from}',\"\n",
    "        js_string += f\"to:'{row.country_to}',\"\n",
    "        js_string += f\"month:{int(month)},\"\n",
    "        js_string += f\"year:{int(year)},\"\n",
    "        js_string += f\"count:{int(row.num_migrants)}\"\n",
    "        js_string += \"},\"\n",
    "    \n",
    "    js_string += \"];\"\n",
    "    \n",
    "    filename = f\"{country}.js\"\n",
    "\n",
    "    with open(Path(output_dir, filename), \"w\") as text_file:\n",
    "        text_file.write(js_string)"
   ]
  }
 ],
 "metadata": {
  "kernelspec": {
   "display_name": ".venv",
   "language": "python",
   "name": "python3"
  },
  "language_info": {
   "codemirror_mode": {
    "name": "ipython",
    "version": 3
   },
   "file_extension": ".py",
   "mimetype": "text/x-python",
   "name": "python",
   "nbconvert_exporter": "python",
   "pygments_lexer": "ipython3",
   "version": "3.12.3"
  }
 },
 "nbformat": 4,
 "nbformat_minor": 2
}
