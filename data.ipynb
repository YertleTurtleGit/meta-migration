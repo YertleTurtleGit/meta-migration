{
 "cells": [
  {
   "cell_type": "code",
   "execution_count": 27,
   "metadata": {},
   "outputs": [
    {
     "name": "stdout",
     "output_type": "stream",
     "text": [
      "Requirement already satisfied: pathlib2 in ./.venv/lib/python3.12/site-packages (2.3.7.post1)\n",
      "Requirement already satisfied: tqdm in ./.venv/lib/python3.12/site-packages (4.67.1)\n",
      "Requirement already satisfied: pandas in ./.venv/lib/python3.12/site-packages (2.2.3)\n",
      "Requirement already satisfied: six in ./.venv/lib/python3.12/site-packages (from pathlib2) (1.17.0)\n",
      "Requirement already satisfied: numpy>=1.26.0 in ./.venv/lib/python3.12/site-packages (from pandas) (2.2.5)\n",
      "Requirement already satisfied: python-dateutil>=2.8.2 in ./.venv/lib/python3.12/site-packages (from pandas) (2.9.0.post0)\n",
      "Requirement already satisfied: pytz>=2020.1 in ./.venv/lib/python3.12/site-packages (from pandas) (2025.2)\n",
      "Requirement already satisfied: tzdata>=2022.7 in ./.venv/lib/python3.12/site-packages (from pandas) (2025.2)\n",
      "Note: you may need to restart the kernel to use updated packages.\n"
     ]
    }
   ],
   "source": [
    "%pip install pathlib2 tqdm pandas"
   ]
  },
  {
   "cell_type": "code",
   "execution_count": 6,
   "metadata": {},
   "outputs": [],
   "source": [
    "from pathlib2 import Path\n",
    "from tqdm import tqdm\n",
    "import pandas as pd"
   ]
  },
  {
   "cell_type": "code",
   "execution_count": 28,
   "metadata": {},
   "outputs": [
    {
     "name": "stderr",
     "output_type": "stream",
     "text": [
      "100%|██████████| 181/181 [02:13<00:00,  1.35it/s]\n"
     ]
    }
   ],
   "source": [
    "output_dir = Path(\"plot\", \"country_to\")\n",
    "output_dir.mkdir(parents=True, exist_ok=True)\n",
    "migrations_df = pd.read_csv(\"international_migration_flow.csv\")\n",
    "countries = migrations_df['country_to'].unique()\n",
    "\n",
    "for country in tqdm(countries):\n",
    "    country_data = migrations_df[migrations_df['country_to'] == country]\n",
    "    js_string = f\"COUNTRY_TO['{country}']=[\"\n",
    "    \n",
    "    for index, row in country_data.iterrows():\n",
    "        year, month = row.migration_month.split(\"-\")\n",
    "        js_string += \"{\"\n",
    "        js_string += f\"from:'{row.country_from}',\"\n",
    "        #js_string += f\"to:'{row.country_to}',\"\n",
    "        js_string += f\"month:{int(month)},\"\n",
    "        js_string += f\"year:{int(year)},\"\n",
    "        js_string += f\"count:{int(row.num_migrants)}\"\n",
    "        js_string += \"},\"\n",
    "    \n",
    "    js_string += \"];\"\n",
    "    \n",
    "    filename = f\"{country}.js\"\n",
    "\n",
    "    with open(Path(output_dir, filename), \"w\") as text_file:\n",
    "        text_file.write(js_string)"
   ]
  },
  {
   "cell_type": "code",
   "execution_count": 30,
   "metadata": {},
   "outputs": [
    {
     "name": "stderr",
     "output_type": "stream",
     "text": [
      "100%|██████████| 181/181 [02:10<00:00,  1.38it/s]\n"
     ]
    }
   ],
   "source": [
    "output_dir = Path(\"plot\", \"country_from\")\n",
    "output_dir.mkdir(parents=True, exist_ok=True)\n",
    "migrations_df = pd.read_csv(\"international_migration_flow.csv\")\n",
    "countries = migrations_df['country_from'].unique()\n",
    "\n",
    "for country in tqdm(countries):\n",
    "    country_data = migrations_df[migrations_df['country_from'] == country]\n",
    "    js_string = f\"COUNTRY_FROM['{country}']=[\"\n",
    "    \n",
    "    for index, row in country_data.iterrows():\n",
    "        year, month = row.migration_month.split(\"-\")\n",
    "        js_string += \"{\"\n",
    "        #js_string += f\"from:'{row.country_from}',\"\n",
    "        js_string += f\"to:'{row.country_to}',\"\n",
    "        js_string += f\"month:{int(month)},\"\n",
    "        js_string += f\"year:{int(year)},\"\n",
    "        js_string += f\"count:{int(row.num_migrants)}\"\n",
    "        js_string += \"},\"\n",
    "    \n",
    "    js_string += \"];\"\n",
    "    \n",
    "    filename = f\"{country}.js\"\n",
    "\n",
    "    with open(Path(output_dir, filename), \"w\") as text_file:\n",
    "        text_file.write(js_string)"
   ]
  }
 ],
 "metadata": {
  "kernelspec": {
   "display_name": ".venv",
   "language": "python",
   "name": "python3"
  },
  "language_info": {
   "codemirror_mode": {
    "name": "ipython",
    "version": 3
   },
   "file_extension": ".py",
   "mimetype": "text/x-python",
   "name": "python",
   "nbconvert_exporter": "python",
   "pygments_lexer": "ipython3",
   "version": "3.12.3"
  }
 },
 "nbformat": 4,
 "nbformat_minor": 2
}
